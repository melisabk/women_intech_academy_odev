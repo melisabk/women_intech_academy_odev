{
 "cells": [
  {
   "cell_type": "markdown",
   "metadata": {},
   "source": [
    "Bir fonksiyon yazmamız isteniyor. Fonksiyon bir integer array nums ve bir hedef target değişkeni almalı ve bizlere toplamı target olan indexleri dönmeli.\n",
    "\n",
    "Kurallar:\n",
    "\n",
    "Aynı index’teki değeri iki defa kullanamayız.\n",
    "Örnek\n",
    "\n",
    "Parametreler: nums = [2,7,11,15], target = 9 Dönen Değer: [0,1] Açıklama: nums[0] ve nums[1]'deki değerlerin toplamı 9 yaptığı için çıktımız [0, 1] oldu.\n",
    "\n",
    "Örnek Parametreler: nums = [3,2,4], target = 6 Dönen Değer: [1,2] Açıklama: nums[1] ve nums[2]'deki değerlerin toplamı 6 yaptığı için çıktımız [1, 2] oldu. Not: Burada [0,0] çıktı olarak kabul edilemez. Çünkü aynı index'i kullanamayacağımız söylenmişti.\n",
    "\n",
    "Örnek Parametreler: nums = [3,2,4,1,3], target = 7 Dönen Değer: [2,4] Açıklama: nums[2] ve nums[4]'deki değerlerin toplamı 7 yaptığı için çıktımız [2, 4] oldu.\n",
    "\n",
    "def find_target(nums,target):"
   ]
  },
  {
   "cell_type": "code",
   "execution_count": null,
   "metadata": {},
   "outputs": [],
   "source": [
    "def getIndexesOfTarget(nums, target):\n",
    "    for outerIndex in range(len(nums)): #Listedeki her bir sayıyı tek tek geziyoruz.\n",
    "        for innerIndex in range(len(nums)):#Listedeki her bir sayı için, listedeki her bir sayıyı tek tek geziyoruz.\n",
    "            if outerIndex == innerIndex: #Aynı index'te olan değerleri kullanamayacağımız için aynı indexleri atlıyoruz.\n",
    "                continue\n",
    "            elif nums[outerIndex] + nums[innerIndex] == target:#Eğer şu an üzerinde olduğumuz indexlerdeki sayıların toplamı target'a eşitse bu indexleri return ediyoruz.\n",
    "                return [outerIndex, innerIndex]"
   ]
  }
 ],
 "metadata": {
  "language_info": {
   "name": "python"
  },
  "orig_nbformat": 4
 },
 "nbformat": 4,
 "nbformat_minor": 2
}

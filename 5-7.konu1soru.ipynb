{
 "cells": [
  {
   "cell_type": "markdown",
   "metadata": {},
   "source": [
    "1-Soru: 0 dan 100 e kadar karışık sırada sayıları tutan bir listenizin olduğunu düşünün. Bu liste içerisinde n tane sayı eksik. n ve eksik sayıları bulunuz.\n",
    "\n",
    "Örnek: my_list = [0, 7, 5, 8, 2] -> 0-10 arasında\n",
    "\n",
    "6 adet sayı eksiktir. Eksik olan sayılar [1, 3, 4, 6, 9, 10]"
   ]
  },
  {
   "cell_type": "code",
   "execution_count": null,
   "metadata": {},
   "outputs": [],
   "source": [
    "import random\n",
    "\n",
    "my_list = [i for i in range(0, 101)]\n",
    "random.shuffle(my_list)\n",
    "\n",
    "DelCount = random.randint(1,100)\n",
    "\n",
    "for i in range(0,DelCount):\n",
    "    my_list.remove(random.choice(my_list))\n",
    "\n",
    "\n",
    "del_list =[]\n",
    "for i in range(0,100):\n",
    "    if i not in my_list:\n",
    "        del_list.append(i)\n",
    "print(f\"{len(del_list)} numbers are missing. If the numbers are not: {del_list} \")"
   ]
  }
 ],
 "metadata": {
  "kernelspec": {
   "display_name": "Python 3.10.5 64-bit",
   "language": "python",
   "name": "python3"
  },
  "language_info": {
   "name": "python",
   "version": "3.10.5"
  },
  "orig_nbformat": 4,
  "vscode": {
   "interpreter": {
    "hash": "62152218f5ae77fab72cd74f672204b070f3d26a6c6ea88577bcd7d0571ecb6a"
   }
  }
 },
 "nbformat": 4,
 "nbformat_minor": 2
}

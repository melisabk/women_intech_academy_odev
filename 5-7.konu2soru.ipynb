{
 "cells": [
  {
   "cell_type": "markdown",
   "metadata": {},
   "source": [
    "\n",
    "0'dan 100'e kadar karışık sırada sayıları tutan bir listenizin olduğunu düşünün. Bu liste içerisinde bu defa n tane sayı yerine 1 adet sayı eksik. Eksik olan sayıyı bulunuz."
   ]
  },
  {
   "cell_type": "code",
   "execution_count": null,
   "metadata": {},
   "outputs": [],
   "source": [
    "import random\n",
    "\n",
    "my_list = [i for i in range(0, 100)]\n",
    "random.shuffle(my_list)\n",
    "\n",
    "\n",
    "my_list.remove(random.choice(my_list))\n",
    "\n",
    "for i in range(0,100):\n",
    "    if i not in my_list:\n",
    "        missing_value = i\n",
    "print(f\"Listemiz içerisinde eksik olan sayı: {missing_value}\")"
   ]
  }
 ],
 "metadata": {
  "language_info": {
   "name": "python"
  },
  "orig_nbformat": 4
 },
 "nbformat": 4,
 "nbformat_minor": 2
}

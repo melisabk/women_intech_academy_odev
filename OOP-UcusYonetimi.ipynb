{
 "cells": [
  {
   "cell_type": "code",
   "execution_count": null,
   "metadata": {},
   "outputs": [],
   "source": [
    "class company:\n",
    "    def __init__(self, name):\n",
    "        return"
   ]
  },
  {
   "cell_type": "code",
   "execution_count": null,
   "metadata": {},
   "outputs": [],
   "source": [
    "class ucak:\n",
    "    def __init__(self, tip, durum, pilot, yardimci_pilot):\n",
    "        self.tip = tip\n",
    "        self.durum = durum\n",
    "        self.pilot = pilot\n",
    "        self.yardimci_pilot = yardimci_pilot\n",
    "        return"
   ]
  },
  {
   "cell_type": "code",
   "execution_count": null,
   "metadata": {},
   "outputs": [],
   "source": [
    "class ucus:\n",
    "    def __init__(self, kalkis_yeri, inis_yeri, kalkis_zamani, inis_zamani):\n",
    "        self.kalkis_yeri = kalkis_yeri\n",
    "        self.inis_yeri = inis_yeri\n",
    "        self.kalkis_zamani = kalkis_zamani\n",
    "        self.inis_zamani = inis_zamani\n",
    "        return"
   ]
  }
 ],
 "metadata": {
  "kernelspec": {
   "display_name": "Python 3.10.5 64-bit",
   "language": "python",
   "name": "python3"
  },
  "language_info": {
   "codemirror_mode": {
    "name": "ipython",
    "version": 3
   },
   "file_extension": ".py",
   "mimetype": "text/x-python",
   "name": "python",
   "nbconvert_exporter": "python",
   "pygments_lexer": "ipython3",
   "version": "3.10.5"
  },
  "orig_nbformat": 4,
  "vscode": {
   "interpreter": {
    "hash": "62152218f5ae77fab72cd74f672204b070f3d26a6c6ea88577bcd7d0571ecb6a"
   }
  }
 },
 "nbformat": 4,
 "nbformat_minor": 2
}

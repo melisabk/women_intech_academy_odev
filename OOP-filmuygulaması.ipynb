{
 "cells": [
  {
   "cell_type": "code",
   "execution_count": 3,
   "metadata": {},
   "outputs": [],
   "source": [
    "class movies:\n",
    "    def __init__(self, isim, kredi, abone):\n",
    "        self.isim = isim\n",
    "        self.kredi = kredi\n",
    "        self.abone = abone\n",
    "        \n",
    "\n",
    "    def movie_paying(self):\n",
    "        if self.abone == (\"Gold\"):\n",
    "            self.kredi = self.kredi  #number\n",
    "           \n",
    "            \n",
    "        elif self.abone == (\"not gold\"):\n",
    "            self.kredi = self.kredi  #40\n",
    "       \n"
   ]
  }
 ],
 "metadata": {
  "kernelspec": {
   "display_name": "Python 3.10.5 64-bit",
   "language": "python",
   "name": "python3"
  },
  "language_info": {
   "codemirror_mode": {
    "name": "ipython",
    "version": 3
   },
   "file_extension": ".py",
   "mimetype": "text/x-python",
   "name": "python",
   "nbconvert_exporter": "python",
   "pygments_lexer": "ipython3",
   "version": "3.10.5"
  },
  "orig_nbformat": 4,
  "vscode": {
   "interpreter": {
    "hash": "62152218f5ae77fab72cd74f672204b070f3d26a6c6ea88577bcd7d0571ecb6a"
   }
  }
 },
 "nbformat": 4,
 "nbformat_minor": 2
}

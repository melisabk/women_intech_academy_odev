{
 "cells": [
  {
   "cell_type": "markdown",
   "metadata": {},
   "source": [
    "Bir liste üzerinde sıralama algoritmasını kullanarak listeyi sıralayınız."
   ]
  },
  {
   "cell_type": "code",
   "execution_count": 2,
   "metadata": {},
   "outputs": [
    {
     "data": {
      "text/plain": [
       "[-8.2, -5, -3, 1, 3, 9, 10, 12, 15, 34, 45, 76, 98]"
      ]
     },
     "execution_count": 2,
     "metadata": {},
     "output_type": "execute_result"
    }
   ],
   "source": [
    "def min_sort_algorithm(list):\n",
    "\n",
    "  for i in range(len(list)):\n",
    "    for j in range(0, len(list) - i - 1):\n",
    "\n",
    "      if list[j] > list[j + 1]:\n",
    "        temp = list[j]\n",
    "        list[j] = list[j+1]\n",
    "        list[j+1] = temp\n",
    "\n",
    "\n",
    "my_sort = [3, 1, 9, 12, 15, 98, 76, 34, 45, -3, -5, -8.2, 10]\n",
    "min_sort_algorithm(my_sort)\n",
    "(my_sort)\n"
   ]
  }
 ],
 "metadata": {
  "kernelspec": {
   "display_name": "Python 3.10.5 64-bit",
   "language": "python",
   "name": "python3"
  },
  "language_info": {
   "codemirror_mode": {
    "name": "ipython",
    "version": 3
   },
   "file_extension": ".py",
   "mimetype": "text/x-python",
   "name": "python",
   "nbconvert_exporter": "python",
   "pygments_lexer": "ipython3",
   "version": "3.10.5"
  },
  "orig_nbformat": 4,
  "vscode": {
   "interpreter": {
    "hash": "62152218f5ae77fab72cd74f672204b070f3d26a6c6ea88577bcd7d0571ecb6a"
   }
  }
 },
 "nbformat": 4,
 "nbformat_minor": 2
}

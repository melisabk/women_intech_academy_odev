{
 "cells": [
  {
   "cell_type": "code",
   "execution_count": 1,
   "metadata": {},
   "outputs": [
    {
     "name": "stdout",
     "output_type": "stream",
     "text": [
      "Üzgünüm, daha büyük bir tahminde bulunmalısın\n",
      "üzgünüm, daha küçük bir tahminde bulunmalısın.\n",
      "Üzgünüm, daha büyük bir tahminde bulunmalısın\n",
      "Üzgünüm, daha büyük bir tahminde bulunmalısın\n",
      "üzgünüm, daha küçük bir tahminde bulunmalısın.\n",
      "Tebrikler, doğru tahmin!\n"
     ]
    }
   ],
   "source": [
    "from random import randint\n",
    "\n",
    "def guess(number):\n",
    "    user_number = int(input(\"Sayı tahmin oyunu için 1-100 arasında bir tahminde bulun\"))\n",
    "    while number != user_number:\n",
    "        if number < user_number:\n",
    "            print(\"üzgünüm, daha küçük bir tahminde bulunmalısın.\")\n",
    "        else:\n",
    "            print(\"Üzgünüm, daha büyük bir tahminde bulunmalısın\")\n",
    "        user_number = int(input(\"Lütfen, yeniden bir tahminde bulunun!\"))\n",
    "    else:\n",
    "        print(\"Tebrikler, doğru tahmin!\")\n",
    "\n",
    "guess(randint(1, 100))"
   ]
  }
 ],
 "metadata": {
  "kernelspec": {
   "display_name": "Python 3.10.5 64-bit",
   "language": "python",
   "name": "python3"
  },
  "language_info": {
   "codemirror_mode": {
    "name": "ipython",
    "version": 3
   },
   "file_extension": ".py",
   "mimetype": "text/x-python",
   "name": "python",
   "nbconvert_exporter": "python",
   "pygments_lexer": "ipython3",
   "version": "3.10.5"
  },
  "orig_nbformat": 4,
  "vscode": {
   "interpreter": {
    "hash": "62152218f5ae77fab72cd74f672204b070f3d26a6c6ea88577bcd7d0571ecb6a"
   }
  }
 },
 "nbformat": 4,
 "nbformat_minor": 2
}
